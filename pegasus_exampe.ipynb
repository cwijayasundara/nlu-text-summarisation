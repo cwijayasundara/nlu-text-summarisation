{
  "nbformat": 4,
  "nbformat_minor": 0,
  "metadata": {
    "colab": {
      "name": "pegasus_exampe.ipynb",
      "private_outputs": true,
      "provenance": [],
      "collapsed_sections": []
    },
    "kernelspec": {
      "name": "python3",
      "display_name": "Python 3"
    },
    "language_info": {
      "name": "python"
    },
    "accelerator": "GPU"
  },
  "cells": [
    {
      "cell_type": "code",
      "metadata": {
        "id": "e6_jT0Idtceq"
      },
      "source": [
        "pip install transformers"
      ],
      "execution_count": null,
      "outputs": []
    },
    {
      "cell_type": "code",
      "metadata": {
        "id": "DsoJH56husWk"
      },
      "source": [
        "pip install sentencepiece"
      ],
      "execution_count": null,
      "outputs": []
    },
    {
      "cell_type": "code",
      "metadata": {
        "id": "5KvlvWTZTRU3"
      },
      "source": [
        "import torch"
      ],
      "execution_count": null,
      "outputs": []
    },
    {
      "cell_type": "code",
      "metadata": {
        "id": "fI578gbRTTe3"
      },
      "source": [
        "src_text = [\n",
        "    \"\"\"The PyPI package bert-text-summarizer receives a total of 58 downloads a week. As such, we scored bert-text-summarizer popularity level to be Limited.\n",
        "Based on project statistics from the GitHub repository for the PyPI package bert-text-summarizer, we found that it has been starred ? times, and that 0 other projects in the ecosystem are dependent on it. The download numbers shown are the average weekly downloads from the last 6 weeks.\"\"\"\n",
        "]"
      ],
      "execution_count": null,
      "outputs": []
    },
    {
      "cell_type": "code",
      "metadata": {
        "id": "QnRrjVlaUM4I"
      },
      "source": [
        "from transformers import PegasusForConditionalGeneration, PegasusTokenizer"
      ],
      "execution_count": null,
      "outputs": []
    },
    {
      "cell_type": "code",
      "metadata": {
        "id": "34AwXVyOTV5E"
      },
      "source": [
        "model_name = 'google/pegasus-xsum'"
      ],
      "execution_count": null,
      "outputs": []
    },
    {
      "cell_type": "code",
      "metadata": {
        "id": "VJZ8DGt8TYUS"
      },
      "source": [
        "device = 'cuda' if torch.cuda.is_available() else 'cpu'"
      ],
      "execution_count": null,
      "outputs": []
    },
    {
      "cell_type": "code",
      "metadata": {
        "id": "7f7iAZXSTad6"
      },
      "source": [
        "tokenizer = PegasusTokenizer.from_pretrained(model_name)"
      ],
      "execution_count": null,
      "outputs": []
    },
    {
      "cell_type": "code",
      "metadata": {
        "id": "OraQM196Tc--"
      },
      "source": [
        "model = PegasusForConditionalGeneration.from_pretrained(model_name).to(device)"
      ],
      "execution_count": null,
      "outputs": []
    },
    {
      "cell_type": "code",
      "metadata": {
        "id": "kYTVprGEToOx"
      },
      "source": [
        "batch = tokenizer(src_text, truncation=True, padding='longest', return_tensors=\"pt\").to(device)"
      ],
      "execution_count": null,
      "outputs": []
    },
    {
      "cell_type": "code",
      "metadata": {
        "id": "_lwoX77jTqZU"
      },
      "source": [
        "translated = model.generate(**batch)"
      ],
      "execution_count": null,
      "outputs": []
    },
    {
      "cell_type": "code",
      "metadata": {
        "id": "lSiAj5ijTv6m"
      },
      "source": [
        "tgt_text = tokenizer.batch_decode(translated, skip_special_tokens=True)\n",
        "print(tgt_text)\n"
      ],
      "execution_count": null,
      "outputs": []
    }
  ]
}